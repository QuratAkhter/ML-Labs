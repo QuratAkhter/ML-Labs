{
  "nbformat": 4,
  "nbformat_minor": 0,
  "metadata": {
    "colab": {
      "provenance": []
    },
    "kernelspec": {
      "name": "python3",
      "display_name": "Python 3"
    },
    "language_info": {
      "name": "python"
    }
  },
  "cells": [
    {
      "cell_type": "code",
      "execution_count": null,
      "metadata": {
        "id": "Q6W9VOSKlpJE"
      },
      "outputs": [],
      "source": [
        "import numpy as np\n",
        "import pandas as pd\n",
        "import matplotlib.pyplot as plt\n",
        "import seaborn as sns"
      ]
    },
    {
      "cell_type": "code",
      "source": [
        "dataset = pd.read_csv('test.csv')"
      ],
      "metadata": {
        "id": "B5ATPIfVp-_f"
      },
      "execution_count": null,
      "outputs": []
    },
    {
      "cell_type": "code",
      "source": [
        "X=dataset.iloc[:,:-1].values\n",
        "y_actual=dataset.iloc[:,-1].values"
      ],
      "metadata": {
        "id": "ND37yUFNqHWw"
      },
      "execution_count": null,
      "outputs": []
    },
    {
      "cell_type": "code",
      "source": [
        "m = len(y_actual)\n",
        "# Adding bias term (column of ones) for theta_0\n",
        "X = np.c_[np.ones((m, 1)), X]"
      ],
      "metadata": {
        "id": "mpyEIUNWt9yA"
      },
      "execution_count": null,
      "outputs": []
    },
    {
      "cell_type": "code",
      "source": [
        "# Initialize parameters\n",
        "theta = np.zeros(X.shape[1])  # Initialize theta with zeros"
      ],
      "metadata": {
        "id": "OIpj2bM0uOlv"
      },
      "execution_count": null,
      "outputs": []
    },
    {
      "cell_type": "markdown",
      "source": [
        "## Cost Function"
      ],
      "metadata": {
        "id": "vv8wnZ7_nuKn"
      }
    },
    {
      "cell_type": "code",
      "source": [
        "def cost_function(y_actual,y_pred):\n",
        "  m = len(y_actual)\n",
        "  cost = (1 / 2 * m) * np.sum((y_pred - y_actual) ** 2)\n",
        "  return cost"
      ],
      "metadata": {
        "id": "gQ5Gu17_ntcI"
      },
      "execution_count": null,
      "outputs": []
    },
    {
      "cell_type": "code",
      "source": [
        "cost = cost_function(y_actual,y_actual)"
      ],
      "metadata": {
        "id": "CW6gOlm-l0hy"
      },
      "execution_count": null,
      "outputs": []
    },
    {
      "cell_type": "code",
      "source": [
        "cost"
      ],
      "metadata": {
        "colab": {
          "base_uri": "https://localhost:8080/"
        },
        "id": "EHDFO2ERqZku",
        "outputId": "b47061e2-665d-4e57-e815-9b1db98d0084"
      },
      "execution_count": null,
      "outputs": [
        {
          "output_type": "execute_result",
          "data": {
            "text/plain": [
              "0.0"
            ]
          },
          "metadata": {},
          "execution_count": 69
        }
      ]
    },
    {
      "cell_type": "code",
      "source": [
        "y_pred=X.dot(0.5)"
      ],
      "metadata": {
        "id": "wJ1prRFgwdin"
      },
      "execution_count": null,
      "outputs": []
    },
    {
      "cell_type": "code",
      "source": [
        "y_pred= y_pred[:,-1]"
      ],
      "metadata": {
        "id": "0F2903StxQmX"
      },
      "execution_count": null,
      "outputs": []
    },
    {
      "cell_type": "code",
      "source": [
        "y_pred"
      ],
      "metadata": {
        "colab": {
          "base_uri": "https://localhost:8080/"
        },
        "id": "AVXZqo7lxJY3",
        "outputId": "7e75b407-8447-482f-f7a9-1b0f7714aa93"
      },
      "execution_count": null,
      "outputs": [
        {
          "output_type": "execute_result",
          "data": {
            "text/plain": [
              "array([38.5, 10.5, 11. , 10. , 18. ,  7.5, 31. , 47.5, 10. ,  2.5,  2. ,\n",
              "        9.5, 48. , 31. , 18. ,  7.5, 32.5,  7. , 43.5, 34.5, 44.5, 25.5,\n",
              "       44.5, 13.5, 48.5, 29. , 39.5, 10.5, 46.5, 13.5, 49.5, 15.5, 16.5,\n",
              "       40. , 14. , 23.5, 26.5, 34.5, 14. , 16.5, 45.5, 35.5, 25. , 38. ,\n",
              "        2. , 18.5, 35. , 34. , 20. , 17.5, 47. , 44. , 26. , 15.5, 29.5,\n",
              "        0. , 19.5, 32. , 34.5, 28.5,  6.5, 36. , 38. , 30.5, 41. ,  9. ,\n",
              "       20.5, 25. , 27.5,  6.5, 23. ,  6.5, 39.5, 26.5,  7.5, 14. , 40.5,\n",
              "       34.5, 26. , 42. , 34. , 13.5, 28. , 24. , 20. , 19.5, 41. , 50. ,\n",
              "       29.5, 21.5, 33.5, 19. , 31.5, 45.5, 30. ,  7. , 10.5, 43.5, 36.5,\n",
              "       16. ,  1. , 41. ,  9.5, 37. , 21. ,  6. ,  0.5, 45. , 44.5,  0. ,\n",
              "       20.5,  8. , 47. , 48.5, 33. , 12. ,  8.5, 45. ,  6.5,  0. , 32. ,\n",
              "       48. , 49. ,  6. , 20.5, 23.5, 39. , 10. , 44.5, 14.5, 32. , 37.5,\n",
              "        6. , 12.5, 14. , 15. , 32.5, 29.5, 32. , 26.5, 35.5, 48.5, 36.5,\n",
              "        4.5,  6. , 31.5, 49.5, 30. , 17.5,  1. , 30. , 16. , 47. , 42. ,\n",
              "       31.5, 11. , 40.5, 46.5, 16.5,  3.5, 21. , 23. , 27. ,  8. , 24.5,\n",
              "       21.5, 47.5, 33. , 10.5, 17.5, 40. , 18.5, 27. , 28. ,  0.5, 16. ,\n",
              "       29. , 16. , 23. , 36. ,  8.5, 48.5, 46.5, 45.5, 18.5,  2. , 27. ,\n",
              "       25.5, 13.5, 23. , 46. , 36.5, 38.5, 45.5, 30.5, 49.5,  2. , 36. ,\n",
              "        9.5, 28.5, 39. , 13. , 37. , 45. , 33. ,  6.5, 20. , 38.5, 33.5,\n",
              "       37.5, 11.5, 22.5, 29.5, 22. , 11.5, 27.5, 27.5, 47.5,  6. ,  2. ,\n",
              "        3.5, 50. , 24. , 21. , 48. , 19.5, 50. , 43.5,  7. ,  7. , 18.5,\n",
              "        2.5, 44. , 45.5, 32.5, 37. , 28. ,  8. ,  2.5, 14. , 46. , 23. ,\n",
              "       27. , 19.5, 22. , 15.5, 34. , 43. , 45. , 19. , 10.5, 47.5, 28. ,\n",
              "       30. , 32.5, 39. , 44.5,  3. , 33.5, 18. ,  8. , 50. , 22.5, 36.5,\n",
              "       28.5, 10. , 38. , 17. , 27.5, 36. , 27.5,  4. , 28. , 36. , 29. ,\n",
              "        3. , 48. , 11.5, 29. , 11.5,  9.5, 12.5, 32. , 10.5, 29.5,  9.5,\n",
              "        8. , 21. , 21.5, 30.5, 46. ,  5.5, 20.5,  0.5,  4. , 35.5, 23. ,\n",
              "       27.5, 31. , 23.5])"
            ]
          },
          "metadata": {},
          "execution_count": 72
        }
      ]
    },
    {
      "cell_type": "code",
      "source": [
        "cost = cost_function(y_actual,y_pred)\n",
        "cost"
      ],
      "metadata": {
        "colab": {
          "base_uri": "https://localhost:8080/"
        },
        "id": "E8vwMQUwwupo",
        "outputId": "3f1420c5-6437-4702-cc66-b3d609c107be"
      },
      "execution_count": null,
      "outputs": [
        {
          "output_type": "execute_result",
          "data": {
            "text/plain": [
              "39859398.40887477"
            ]
          },
          "metadata": {},
          "execution_count": 73
        }
      ]
    },
    {
      "cell_type": "markdown",
      "source": [
        "## Gradient Decent"
      ],
      "metadata": {
        "id": "e2DdLyG5uVM3"
      }
    },
    {
      "cell_type": "code",
      "source": [
        "def gradient_descent(X, y_actual, theta, learning_rate, iterations):\n",
        "    m = len(y_actual)\n",
        "    cost_history = []\n",
        "\n",
        "    for _ in range(iterations):\n",
        "        y_pred = X.dot(theta)  # Predictions\n",
        "        error = y_pred - y_actual  # Error\n",
        "        gradient = (1 / m) * X.T.dot(error)  # Compute gradient\n",
        "        theta -= learning_rate * gradient  # Update theta\n",
        "        cost_history.append(cost_function(y_actual, y_pred))  # Track cost\n",
        "\n",
        "    return theta, cost_history"
      ],
      "metadata": {
        "id": "2vr4LkM4qhFS"
      },
      "execution_count": null,
      "outputs": []
    },
    {
      "cell_type": "code",
      "source": [
        "# Hyperparameters\n",
        "learning_rate = 0.01\n",
        "iterations = 1000\n",
        "\n",
        "# Running Gradient Descent\n",
        "theta_optimized, cost_history = gradient_descent(X, y_actual, theta, learning_rate, iterations)\n",
        "\n",
        "# Print results\n",
        "print(\"Optimized Theta:\", theta_optimized)\n",
        "print(\"Final Cost:\", cost_history[-1])"
      ],
      "metadata": {
        "colab": {
          "base_uri": "https://localhost:8080/"
        },
        "id": "MJLgUDmpuaWW",
        "outputId": "7ca3c008-6781-4f82-cb57-83fd01c8faf6"
      },
      "execution_count": null,
      "outputs": [
        {
          "output_type": "stream",
          "name": "stdout",
          "text": [
            "Optimized Theta: [nan nan]\n",
            "Final Cost: nan\n"
          ]
        },
        {
          "output_type": "stream",
          "name": "stderr",
          "text": [
            "<ipython-input-67-63f152e20b23>:3: RuntimeWarning: overflow encountered in scalar multiply\n",
            "  cost = (1 / 2 * m) * np.sum((y_pred - y_actual) ** 2)\n",
            "/usr/local/lib/python3.11/dist-packages/numpy/core/fromnumeric.py:88: RuntimeWarning: overflow encountered in reduce\n",
            "  return ufunc.reduce(obj, axis, dtype, out, **passkwargs)\n",
            "<ipython-input-67-63f152e20b23>:3: RuntimeWarning: overflow encountered in square\n",
            "  cost = (1 / 2 * m) * np.sum((y_pred - y_actual) ** 2)\n"
          ]
        }
      ]
    },
    {
      "cell_type": "code",
      "source": [
        "# Plot cost function vs iterations\n",
        "plt.figure(figsize=(8, 5))\n",
        "plt.plot(range(iterations), cost_history, color='blue', linewidth=2)\n",
        "plt.xlabel(\"Iterations\")\n",
        "plt.ylabel(\"Cost\")\n",
        "plt.title(\"Gradient Descent Parabola (Cost vs Iterations)\")\n",
        "plt.grid(True)\n",
        "plt.show()"
      ],
      "metadata": {
        "colab": {
          "base_uri": "https://localhost:8080/",
          "height": 487
        },
        "id": "yH_aysjrugf9",
        "outputId": "11485d4f-1a2e-45f2-f925-30381f520f6c"
      },
      "execution_count": null,
      "outputs": [
        {
          "output_type": "display_data",
          "data": {
            "text/plain": [
              "<Figure size 800x500 with 1 Axes>"
            ],
            "image/png": "[encoded data removed]"
          },
          "metadata": {}
        }
      ]
    },
    {
      "cell_type": "markdown",
      "source": [
        "## Plotting Gradient Decent Curve"
      ],
      "metadata": {
        "id": "B7QrBlNjwOwQ"
      }
    },
    {
      "cell_type": "code",
      "source": [
        "# Cost Function\n",
        "def cost_function2(X, y_actual, theta):\n",
        "    m = len(y_actual)\n",
        "    y_pred = X.dot(theta)  # Predictions\n",
        "    cost = (1 / (2 * m)) * np.sum((y_pred - y_actual) ** 2)  # Mean Squared Error Cost Function\n",
        "    return cost\n",
        "\n",
        "# Define range for theta_1\n",
        "theta_1_values = np.linspace(-10, 10, 100)  # Generate 100 values from -10 to 10\n",
        "cost_values = []  # Store cost values\n",
        "\n",
        "# Compute cost for each theta_1 while keeping theta_0 fixed\n",
        "theta_0 = 0  # Assume theta_0 is fixed at 0\n",
        "for theta_1 in theta_1_values:\n",
        "    theta = np.array([theta_0, theta_1])  # Only one feature case\n",
        "    cost_values.append(cost_function2(X, y_actual, theta))\n",
        "\n",
        "# Plot J(theta1) vs theta1\n",
        "plt.figure(figsize=(8, 5))\n",
        "plt.plot(theta_1_values, cost_values, color='blue', linewidth=2)\n",
        "plt.xlabel(r\"$\\theta_1$\")\n",
        "plt.ylabel(r\"$J(\\theta_1)$\")\n",
        "plt.title(\"Cost Function Curve: J(θ1) vs θ1\")\n",
        "plt.grid(True)\n",
        "plt.show()\n"
      ],
      "metadata": {
        "colab": {
          "base_uri": "https://localhost:8080/",
          "height": 491
        },
        "id": "KUz9leS3ulre",
        "outputId": "b7e97a38-919f-4bbd-faf4-79091b0e5c8b"
      },
      "execution_count": null,
      "outputs": [
        {
          "output_type": "display_data",
          "data": {
            "text/plain": [
              "<Figure size 800x500 with 1 Axes>"
            ],
            "image/png": "[encoded data removed]"
          },
          "metadata": {}
        }
      ]
    },
    {
      "cell_type": "code",
      "source": [],
      "metadata": {
        "id": "w3y2iaMcvN6u"
      },
      "execution_count": null,
      "outputs": []
    }
  ]
}